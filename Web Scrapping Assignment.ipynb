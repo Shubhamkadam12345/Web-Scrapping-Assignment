{
 "cells": [
  {
   "cell_type": "code",
   "execution_count": null,
   "id": "e2fb3c99-08b8-4fb8-b0b6-9c76da63e1c8",
   "metadata": {},
   "outputs": [],
   "source": [
    "Q.1"
   ]
  },
  {
   "cell_type": "code",
   "execution_count": null,
   "id": "2252d674-c153-422e-a079-6a8318a7b0df",
   "metadata": {},
   "outputs": [],
   "source": [
    "Web Scrapping is an automatic method tp obtain large amounts of data from websites. Most of this\n",
    "data is unstructured data in an HTML format which is than converted into stuctured data in a spreadsheat\n",
    "or a database so that it can be used in various applications."
   ]
  },
  {
   "cell_type": "code",
   "execution_count": null,
   "id": "7bb8ccb8-71a1-4c1f-a2ac-200b642c2cfa",
   "metadata": {},
   "outputs": [],
   "source": [
    "Some of the main use causes of web scraping include price monitoring, price intelligences, news monitoring, lead generation,\n",
    "& market research among many others."
   ]
  },
  {
   "cell_type": "code",
   "execution_count": null,
   "id": "5b34fed8-2ff5-47a0-b05e-963e7b2288b0",
   "metadata": {},
   "outputs": [],
   "source": [
    "Q.2"
   ]
  },
  {
   "cell_type": "code",
   "execution_count": null,
   "id": "455f73eb-b0b7-4672-a60a-5be64ec7cf08",
   "metadata": {},
   "outputs": [],
   "source": [
    "Different methods used for web scraping\n",
    "1) Human copy-and-paste\n",
    "2) Text pattern matching\n",
    "3) HTTP programming\n",
    "4) HTML parsing\n",
    "5) DOM parsing\n",
    "6) Vertical aggergation\n",
    "7) Sematic annotation recognizing\n",
    "8) Computer vision web- page analyis"
   ]
  },
  {
   "cell_type": "code",
   "execution_count": null,
   "id": "db2a103d-58b7-4ecb-a870-d4cd36115619",
   "metadata": {},
   "outputs": [],
   "source": [
    "Q.3"
   ]
  },
  {
   "cell_type": "code",
   "execution_count": null,
   "id": "1f3f68e5-4ed9-4625-81ab-b02af9a8c48d",
   "metadata": {},
   "outputs": [],
   "source": [
    "Beautiful Soup is a python package for passing HTML & XML document cinculidind\n",
    "having malformed marcup , i.e. non- closed tags, so named after tag soup"
   ]
  },
  {
   "cell_type": "code",
   "execution_count": null,
   "id": "76f15ba2-6b11-428a-b894-21ad51b15785",
   "metadata": {},
   "outputs": [],
   "source": [
    "It transformed a complex HTML document into a three of python object. It also automasically convert the documents to Unicode,\n",
    "so you dont have to think about encodings."
   ]
  },
  {
   "cell_type": "code",
   "execution_count": null,
   "id": "de8f4f9d-f4bf-4137-8257-25db6d3cd814",
   "metadata": {},
   "outputs": [],
   "source": [
    "Q.4"
   ]
  },
  {
   "cell_type": "code",
   "execution_count": null,
   "id": "744004a7-7a4a-49f9-a0cd-67ec887ada8c",
   "metadata": {},
   "outputs": [],
   "source": [
    "With Flasks microframework, we can create a straigth forward web interface to display the data we gather."
   ]
  },
  {
   "cell_type": "code",
   "execution_count": null,
   "id": "f1fd77e7-2408-4382-b24c-fff06e8c7be8",
   "metadata": {},
   "outputs": [],
   "source": [
    "Q.5"
   ]
  },
  {
   "cell_type": "code",
   "execution_count": null,
   "id": "14a51d54-3c21-4f76-b8b8-5679b3f88acf",
   "metadata": {},
   "outputs": [],
   "source": [
    "Amazon Web Services ( AWS ) is the worlds most comprehensive & broadly adopted cloud offering over 200 fully featured services from\n",
    "data centre globally."
   ]
  },
  {
   "cell_type": "code",
   "execution_count": null,
   "id": "e0e0a6f9-c69c-44a0-9679-0486f55814a5",
   "metadata": {},
   "outputs": [],
   "source": [
    "Computer power, content delivery, database storage and more to help enterprises and organxations grow."
   ]
  }
 ],
 "metadata": {
  "kernelspec": {
   "display_name": "Python 3 (ipykernel)",
   "language": "python",
   "name": "python3"
  },
  "language_info": {
   "codemirror_mode": {
    "name": "ipython",
    "version": 3
   },
   "file_extension": ".py",
   "mimetype": "text/x-python",
   "name": "python",
   "nbconvert_exporter": "python",
   "pygments_lexer": "ipython3",
   "version": "3.10.8"
  }
 },
 "nbformat": 4,
 "nbformat_minor": 5
}
